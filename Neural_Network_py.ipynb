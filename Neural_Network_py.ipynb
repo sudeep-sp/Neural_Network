{
  "nbformat": 4,
  "nbformat_minor": 0,
  "metadata": {
    "colab": {
      "provenance": [],
      "authorship_tag": "ABX9TyPWxMcaYDf6If7j0u7skl5j"
    },
    "kernelspec": {
      "name": "python3",
      "display_name": "Python 3"
    },
    "language_info": {
      "name": "python"
    }
  },
  "cells": [
    {
      "cell_type": "markdown",
      "source": [
        "## Single Neuron\n",
        "\n",
        "y = x*w+b\n",
        "\n",
        "* x - input\n",
        "* w - weight\n",
        "* b - bias\n",
        "* y - output"
      ],
      "metadata": {
        "id": "zAUlMKHODMx0"
      }
    },
    {
      "cell_type": "code",
      "execution_count": null,
      "metadata": {
        "id": "PpQocGjVAfBc",
        "colab": {
          "base_uri": "https://localhost:8080/"
        },
        "outputId": "10b2893e-7235-418b-d502-52e6adf6d1fd"
      },
      "outputs": [
        {
          "output_type": "stream",
          "name": "stdout",
          "text": [
            "2.3\n"
          ]
        }
      ],
      "source": [
        "x = [1,2,3]\n",
        "w = [0.2,0.8,-0.5]\n",
        "b = 2\n",
        "y = 0\n",
        "\n",
        "y = sum(x[i]*w[i] for i in range(len(x))) + b\n",
        "print(y)\n",
        "\n"
      ]
    },
    {
      "cell_type": "markdown",
      "source": [
        "## Multi Neurons\n",
        "\n",
        "* y1 = x0*W00 + x1*W01 + x2*W02 + x3*W03\n",
        "* y2 = x0*W10 + x1*W11 + x2*W12 + x3*W13\n",
        "* y3 = x0*W20 + x1*W21 + x2*W22 + x3*W23"
      ],
      "metadata": {
        "id": "WqhZUlnCFJbk"
      }
    },
    {
      "cell_type": "code",
      "source": [
        "x = [1,2,3,2.5]\n",
        "W = [[.2,.8,-.5,1],\n",
        "     [.5,-.91,.26,-.5],\n",
        "     [-.26,-.27,.17,.87]]\n",
        "b = [2,3,0.5]\n",
        "\n",
        "o = []\n",
        "\n",
        "for i in range(len(W)):\n",
        "  y = 0\n",
        "  for j in range(len(x)):\n",
        "    y += x[j]*W[i][j]\n",
        "  y += b[i]\n",
        "  o.append(y)\n",
        "\n",
        "print(o)"
      ],
      "metadata": {
        "colab": {
          "base_uri": "https://localhost:8080/"
        },
        "id": "I1_RcPXVErb4",
        "outputId": "ebd3b944-a8c5-4df3-8055-a64e9edc2d95"
      },
      "execution_count": null,
      "outputs": [
        {
          "output_type": "stream",
          "name": "stdout",
          "text": [
            "[4.8, 1.21, 2.385]\n"
          ]
        }
      ]
    },
    {
      "cell_type": "markdown",
      "source": [
        "## Using NumPy"
      ],
      "metadata": {
        "id": "F3ffL5pMH4Si"
      }
    },
    {
      "cell_type": "code",
      "source": [
        "import numpy as np\n",
        "x = np.array([1.,2.,3.])\n",
        "w = np.array([0.2,0.8,-0.5])\n",
        "b = 2.\n",
        "\n",
        "y = np.dot(x,w) + b\n",
        "print(y)"
      ],
      "metadata": {
        "colab": {
          "base_uri": "https://localhost:8080/"
        },
        "id": "An6rPqejHuKm",
        "outputId": "72b72c73-d6ef-4e2d-b2df-6d47422f27fa"
      },
      "execution_count": null,
      "outputs": [
        {
          "output_type": "stream",
          "name": "stdout",
          "text": [
            "2.300000011920929\n"
          ]
        }
      ]
    },
    {
      "cell_type": "code",
      "source": [
        "x = np.array([1,2,3,2.5])\n",
        "W = np.array([[.2,.8,-.5,1],\n",
        "     [.5,-.91,.26,-.5],\n",
        "     [-.26,-.27,.17,.87]])\n",
        "b = [2,3,0.5]\n",
        "\n",
        "o = np.dot(W,x) + b\n",
        "print(o)"
      ],
      "metadata": {
        "colab": {
          "base_uri": "https://localhost:8080/"
        },
        "id": "-Zm9sqizIGZ6",
        "outputId": "f7e433ca-2d7e-4f86-d793-c3d006fe9d9a"
      },
      "execution_count": null,
      "outputs": [
        {
          "output_type": "stream",
          "name": "stdout",
          "text": [
            "[4.79999995 1.21000004 2.38499999]\n"
          ]
        }
      ]
    },
    {
      "cell_type": "markdown",
      "source": [
        "Layers of Neurons and batch of data using NumPy"
      ],
      "metadata": {
        "id": "sndEVD2PLEAT"
      }
    },
    {
      "cell_type": "code",
      "source": [
        "X = [[1, 2, 3, 2.5],\n",
        "          [2., 5., -1., 2],\n",
        "          [-1.5, 2.7, 3.3, -0.8]]\n",
        "W = [[.2,.8,-.5,1],\n",
        "     [.5,-.91,.26,-.5],\n",
        "     [-.26,-.27,.17,.87]]\n",
        "b = [2,3,0.5]\n",
        "\n",
        "Y = np.dot(np.array(X),np.array(W).T) + b\n",
        "print(Y)"
      ],
      "metadata": {
        "colab": {
          "base_uri": "https://localhost:8080/"
        },
        "id": "saGxvdhELMrL",
        "outputId": "108c26b4-4398-4225-8c26-82e55fa4622e"
      },
      "execution_count": null,
      "outputs": [
        {
          "output_type": "stream",
          "name": "stdout",
          "text": [
            "[[ 4.79999995  1.21000004  2.38499999]\n",
            " [ 8.9000001  -1.80999994  0.19999999]\n",
            " [ 1.41000003  1.051       0.02599999]]\n"
          ]
        }
      ]
    },
    {
      "cell_type": "markdown",
      "source": [
        "2 Layers of Neuros and batch of data using NumPy"
      ],
      "metadata": {
        "id": "jz8UnWskL8cU"
      }
    },
    {
      "cell_type": "code",
      "source": [
        "import numpy as np\n",
        "\n",
        "X = [[1, 2, 3, 2.5],\n",
        "          [2., 5., -1., 2],\n",
        "          [-1.5, 2.7, 3.3, -0.8]]\n",
        "\n",
        "W1 = [[0.2, 0.8, -0.5, 1],\n",
        "           [0.5, -0.91, 0.26, -0.5],\n",
        "           [-0.26, -0.27, 0.17, 0.87]]\n",
        "\n",
        "b1 = [2, 3, 0.5]\n",
        "\n",
        "W2 = [[0.1, -0.14, 0.5],\n",
        "            [-0.5, 0.12, -0.33],\n",
        "            [-0.44, 0.73, -0.13]]\n",
        "\n",
        "b2 = [-1, 2, -0.5]\n",
        "\n",
        "Y1 = np.dot(np.array(X), np.array(W1).T) + b1\n",
        "Y2 = np.dot(Y1, np.array(W2).T) + b2\n",
        "\n",
        "print(Y2)"
      ],
      "metadata": {
        "colab": {
          "base_uri": "https://localhost:8080/"
        },
        "id": "AcCsKf4HL79V",
        "outputId": "aa16cf53-1141-42a4-d037-3b39d0ded910"
      },
      "execution_count": null,
      "outputs": [
        {
          "output_type": "stream",
          "name": "stdout",
          "text": [
            "[[ 0.50310004 -1.04184985 -2.03874993]\n",
            " [ 0.24339998 -2.73320007 -5.76329994]\n",
            " [-0.99314     1.41254002 -0.35655001]]\n"
          ]
        }
      ]
    },
    {
      "cell_type": "markdown",
      "source": [
        "## Array Summation"
      ],
      "metadata": {
        "id": "LrhB14taj8VJ"
      }
    },
    {
      "cell_type": "code",
      "source": [
        "A = [[0.1, -0.14, 0.5],\n",
        "    [-0.5, 0.12, -0.33],\n",
        "    [-0.44, 0.73, -0.13]]"
      ],
      "metadata": {
        "id": "jjz7-4LCkBdm"
      },
      "execution_count": null,
      "outputs": []
    },
    {
      "cell_type": "code",
      "source": [
        "import numpy as np\n",
        "\n",
        "np.sum(A, axis=None) # sums evrything"
      ],
      "metadata": {
        "colab": {
          "base_uri": "https://localhost:8080/"
        },
        "id": "HOFNw5y7kJBj",
        "outputId": "af309d3c-4297-49f4-b5f1-ce91d3b48cc6"
      },
      "execution_count": null,
      "outputs": [
        {
          "output_type": "execute_result",
          "data": {
            "text/plain": [
              "-0.09000000000000005"
            ]
          },
          "metadata": {},
          "execution_count": 120
        }
      ]
    },
    {
      "cell_type": "code",
      "source": [
        "print(np.sum(A, axis=0)) # sum the rows\n",
        "print(np.sum(A, axis=0).shape)"
      ],
      "metadata": {
        "colab": {
          "base_uri": "https://localhost:8080/"
        },
        "id": "5PRUwXe1kRmf",
        "outputId": "c8f96ea2-cbb9-4df3-a385-4fe1222e217b"
      },
      "execution_count": null,
      "outputs": [
        {
          "output_type": "stream",
          "name": "stdout",
          "text": [
            "[-0.84  0.71  0.04]\n",
            "(3,)\n"
          ]
        }
      ]
    },
    {
      "cell_type": "code",
      "source": [
        "print(np.sum(A, axis=1)) # sums the columns\n",
        "print(np.sum(A, axis=1).shape)"
      ],
      "metadata": {
        "colab": {
          "base_uri": "https://localhost:8080/"
        },
        "id": "tcsMzjiTkdIW",
        "outputId": "b2689337-7d3f-46c8-947d-0fc97f9f983a"
      },
      "execution_count": null,
      "outputs": [
        {
          "output_type": "stream",
          "name": "stdout",
          "text": [
            "[ 0.46 -0.71  0.16]\n",
            "(3,)\n"
          ]
        }
      ]
    },
    {
      "cell_type": "markdown",
      "source": [
        "use of keepdims:"
      ],
      "metadata": {
        "id": "xyoBpjVsk1zw"
      }
    },
    {
      "cell_type": "code",
      "source": [
        "print(np.sum(A,axis=0, keepdims=True))\n",
        "print(np.sum(A,axis=0, keepdims=True).shape)\n"
      ],
      "metadata": {
        "colab": {
          "base_uri": "https://localhost:8080/"
        },
        "id": "du_b8o--k5DD",
        "outputId": "1c299c0e-176d-46cb-d6d6-498808f83112"
      },
      "execution_count": null,
      "outputs": [
        {
          "output_type": "stream",
          "name": "stdout",
          "text": [
            "[[-0.84  0.71  0.04]]\n",
            "(1, 3)\n"
          ]
        }
      ]
    },
    {
      "cell_type": "code",
      "source": [
        "print(np.sum(A,axis=1, keepdims=True))\n",
        "print(np.sum(A,axis=1, keepdims=True).shape)"
      ],
      "metadata": {
        "colab": {
          "base_uri": "https://localhost:8080/"
        },
        "id": "uOcsAZpQl84r",
        "outputId": "60b964e6-d51b-4aab-a42b-55321cdb7835"
      },
      "execution_count": null,
      "outputs": [
        {
          "output_type": "stream",
          "name": "stdout",
          "text": [
            "[[ 0.46]\n",
            " [-0.71]\n",
            " [ 0.16]]\n",
            "(3, 1)\n"
          ]
        }
      ]
    },
    {
      "cell_type": "markdown",
      "source": [
        "## Broadcasting rules\n"
      ],
      "metadata": {
        "id": "f5ChDSi3mFzn"
      }
    },
    {
      "cell_type": "code",
      "source": [
        "A = [[0.2, 0.8, -0.5, 1],\n",
        "      [0.5, -0.91, 0.26, -0.5],\n",
        "      [-0.26, -0.27, 0.17, 0.87]]\n",
        "\n",
        "b = [2, 3, 0.5]\n"
      ],
      "metadata": {
        "id": "SGd9B6WwmJkq"
      },
      "execution_count": null,
      "outputs": []
    },
    {
      "cell_type": "markdown",
      "source": [
        "* dim of A = 3x3\n",
        "* dim of b = 3x1\n",
        "\n",
        "**Rule is:**\n",
        "`scan from left dimension must be equal, one of them must be one or one that does not exist`\n"
      ],
      "metadata": {
        "id": "8QMiN7QfmtAp"
      }
    },
    {
      "cell_type": "code",
      "source": [
        "# then b will be\n",
        "b = [[2, 3, 0.5],\n",
        "     [2, 3, 0.5],\n",
        "     [2, 3, 0.5]]\n",
        "# now A + b can be done"
      ],
      "metadata": {
        "id": "LD5v2s7znLN2"
      },
      "execution_count": null,
      "outputs": []
    },
    {
      "cell_type": "code",
      "source": [
        "A = [[1,2,3],\n",
        "     [4,5,6],\n",
        "     [7,8,9]]\n",
        "# want to subtract max value from each row\n",
        "# ans:\n",
        "[-2, -1, 0]\n",
        "[-2, -1, 0]\n",
        "[-2, -1, 0]\n",
        "\n",
        "#case1\n",
        "print(A-np.max(A,axis = 1)) #wrong\n",
        "#case2:\n",
        "print(A-np.max(A, axis=1, keepdims=True))\n",
        "\n",
        "\n"
      ],
      "metadata": {
        "colab": {
          "base_uri": "https://localhost:8080/"
        },
        "id": "7tpk9gGKqIjB",
        "outputId": "8bf5a902-2ebf-4422-ee41-754c24ad426c"
      },
      "execution_count": null,
      "outputs": [
        {
          "output_type": "stream",
          "name": "stdout",
          "text": [
            "[[-2 -4 -6]\n",
            " [ 1 -1 -3]\n",
            " [ 4  2  0]]\n",
            "[[-2 -1  0]\n",
            " [-2 -1  0]\n",
            " [-2 -1  0]]\n"
          ]
        }
      ]
    },
    {
      "cell_type": "markdown",
      "source": [
        "## Types of Datas\n",
        "1. Linear - easy\n",
        "2. Non Linear - not easy so, we use NN"
      ],
      "metadata": {
        "id": "Yb8zAv_uOlTe"
      }
    },
    {
      "cell_type": "code",
      "source": [
        "pip install nnfs"
      ],
      "metadata": {
        "colab": {
          "base_uri": "https://localhost:8080/"
        },
        "id": "BswYs7lJNVD7",
        "outputId": "9fc3aba7-d548-4e95-a68a-9dc92b44a404"
      },
      "execution_count": null,
      "outputs": [
        {
          "output_type": "stream",
          "name": "stdout",
          "text": [
            "Requirement already satisfied: nnfs in /usr/local/lib/python3.10/dist-packages (0.5.1)\n",
            "Requirement already satisfied: numpy in /usr/local/lib/python3.10/dist-packages (from nnfs) (1.26.4)\n"
          ]
        }
      ]
    },
    {
      "cell_type": "markdown",
      "source": [
        "Generating Non Linear Training data"
      ],
      "metadata": {
        "id": "Kzs0VCQuO7X8"
      }
    },
    {
      "cell_type": "code",
      "source": [
        "from nnfs.datasets import spiral_data\n",
        "import matplotlib.pyplot as plt\n",
        "import numpy as np\n",
        "import nnfs\n",
        "nnfs.init()\n",
        "\n",
        "X, y = spiral_data(samples = 100, classes=3)\n",
        "plt.scatter(X[:,0], X[:,1])\n",
        "plt.show()"
      ],
      "metadata": {
        "colab": {
          "base_uri": "https://localhost:8080/",
          "height": 430
        },
        "id": "o8C2YWXMPBPW",
        "outputId": "62cb6571-7159-4a04-8a34-f622aaeef0c7"
      },
      "execution_count": null,
      "outputs": [
        {
          "output_type": "display_data",
          "data": {
            "text/plain": [
              "<Figure size 640x480 with 1 Axes>"
            ],
            "image/png": "[encoded data removed]"
          },
          "metadata": {}
        }
      ]
    },
    {
      "cell_type": "code",
      "source": [
        "plt.scatter(X[:,0], X[:,1], c=y, cmap='brg')\n",
        "plt.show()"
      ],
      "metadata": {
        "colab": {
          "base_uri": "https://localhost:8080/",
          "height": 430
        },
        "id": "fHJkaL_jQDEC",
        "outputId": "e61d925e-843a-4eb7-ad44-d02337d8c30d"
      },
      "execution_count": null,
      "outputs": [
        {
          "output_type": "display_data",
          "data": {
            "text/plain": [
              "<Figure size 640x480 with 1 Axes>"
            ],
            "image/png": "[encoded data removed]"
          },
          "metadata": {}
        }
      ]
    },
    {
      "cell_type": "markdown",
      "source": [
        "## Dense layer Class"
      ],
      "metadata": {
        "id": "7w96RczbgoRs"
      }
    },
    {
      "cell_type": "code",
      "source": [
        "import numpy as np\n",
        "import nnfs\n",
        "from nnfs.datasets import spiral_data\n",
        "nnfs.init()\n",
        "\n",
        "#Dense layer\n",
        "class Dense_Layer:\n",
        "  def __init__(self, n_inputs, n_neurons):\n",
        "    #init weigths and biases\n",
        "    self.weights = 0.01 * np.random.randn(n_inputs, n_neurons)\n",
        "    self.biases = np.zeros((1,n_neurons))\n",
        "\n",
        "    #Forward pass\n",
        "  def forward(self, inputs):\n",
        "    #calculate output values from inputs, weights and biases\n",
        "    self.output = np.dot(inputs, self.weights) + self.biases\n",
        "\n",
        "#Create dataset\n",
        "X, y = spiral_data(samples=100, classes=3)\n",
        "\n",
        "#Create Dense layer with 2 input features and 3 output values\n",
        "dense1 = Dense_Layer(2,3)\n",
        "#Performing forward pass\n",
        "dense1.forward(X)\n",
        "\n",
        "#Let's see output of the first few samples:\n",
        "print(dense1.output[:5])"
      ],
      "metadata": {
        "colab": {
          "base_uri": "https://localhost:8080/"
        },
        "id": "sFKPWDNDgmog",
        "outputId": "f7831cda-ae28-4a0d-cf16-044fd265fc46"
      },
      "execution_count": null,
      "outputs": [
        {
          "output_type": "stream",
          "name": "stdout",
          "text": [
            "[[ 0.0000000e+00  0.0000000e+00  0.0000000e+00]\n",
            " [-1.0475188e-04  1.1395361e-04 -4.7983500e-05]\n",
            " [-2.7414842e-04  3.1729150e-04 -8.6921798e-05]\n",
            " [-4.2188365e-04  5.2666257e-04 -5.5912682e-05]\n",
            " [-5.7707680e-04  7.1401405e-04 -8.9430439e-05]]\n"
          ]
        }
      ]
    },
    {
      "cell_type": "markdown",
      "source": [
        "## Activation function\n"
      ],
      "metadata": {
        "id": "KpvefJuDr8wy"
      }
    },
    {
      "cell_type": "markdown",
      "source": [
        "**Relu**:\n",
        "* max(0,x)\n",
        "* how relu works:\n",
        "https://www.youtube.com/watch?v=joA6fEAbAQc"
      ],
      "metadata": {
        "id": "2VYQb9CGuqDk"
      }
    },
    {
      "cell_type": "code",
      "source": [
        "import numpy as np\n",
        "inputs = [0,2,-1,3.3,-2.7,1.1,2.2,-100]\n",
        "output = np.maximum(0,inputs)\n",
        "print(output)\n"
      ],
      "metadata": {
        "colab": {
          "base_uri": "https://localhost:8080/"
        },
        "id": "YQNKaTour_tj",
        "outputId": "d9bed0c7-2490-4272-883c-8ebe0d633911"
      },
      "execution_count": null,
      "outputs": [
        {
          "output_type": "stream",
          "name": "stdout",
          "text": [
            "[0.  2.  0.  3.3 0.  1.1 2.2 0. ]\n"
          ]
        }
      ]
    },
    {
      "cell_type": "code",
      "source": [
        "#ReLU activation\n",
        "class Activation_ReLU:\n",
        "  def forward(self, inputs):\n",
        "    self.output = np.maximum(0,inputs)"
      ],
      "metadata": {
        "id": "RcLcMr2GvWDv"
      },
      "execution_count": null,
      "outputs": []
    },
    {
      "cell_type": "code",
      "source": [
        "X, y = spiral_data(samples=100, classes=3)\n",
        "\n",
        "#Create Dense layer with 2 I/P features and 3 O/P values\n",
        "dense1 = Dense_Layer(2,3)\n",
        "\n",
        "#Create Relu activation (to be used with dense layer):\n",
        "activation1 = Activation_ReLU()\n",
        "\n",
        "#make a forward pass of our training data through this layer\n",
        "dense1.forward(X)\n",
        "\n",
        "#Forward pass through activation func.\n",
        "# takes in output from previous layer\n",
        "activation1.forward(dense1.output)\n",
        "\n",
        "print(activation1.output[:5])\n"
      ],
      "metadata": {
        "colab": {
          "base_uri": "https://localhost:8080/"
        },
        "id": "vAnZeudo5OXO",
        "outputId": "9df3bbf1-68b7-4ad3-b9cf-4f6628d9d5c5"
      },
      "execution_count": null,
      "outputs": [
        {
          "output_type": "stream",
          "name": "stdout",
          "text": [
            "[[0. 0. 0.]\n",
            " [0. 0. 0.]\n",
            " [0. 0. 0.]\n",
            " [0. 0. 0.]\n",
            " [0. 0. 0.]]\n"
          ]
        }
      ]
    },
    {
      "cell_type": "markdown",
      "source": [
        "after ReLU:\n",
        "* output 1: 5\n",
        "* output 2: 10\n",
        "* output 3: 15\n",
        "\n",
        "not good for classification problems\n",
        "\n",
        "problems:\n",
        "* output will be of all real numbers so they can be 0,1000,100000 or anything and does not tell anything too much about.\n",
        "* not related to probability - ideally we want a output which can tell me what is the probability that my input is in red, blue and green class , so the bottom line is that we need to make there output sum equals to 1\n",
        "\n",
        "solution -> `Softmax Activation`\n",
        "* output will lies btw (0,1)\n",
        "* probability - sum of all op is 1\n",
        "\n",
        "O1 -> 5 ------>  exp(5) / exp(5) + exp(10) + exp(15)\n",
        "\n",
        "O2 -> 5 ------>  exp(10) / exp(5) + exp(10) + exp(15)\n",
        "\n",
        "O3 -> 5 ------>  exp(15) / exp(5) + exp(10) + exp(15)\n",
        "\n",
        "1. output is exp() so always positive\n",
        "2. values btw 0 and 1\n",
        "3. sum will be 1 ==> exp(5) + exp(10) + exp(15) / exp(5) + exp(10) + exp(15)\n",
        "\n",
        "**one practical addition we do is we substaract every row by its max value of that row**\n",
        "\n",
        "because to prevent exp() values to become large."
      ],
      "metadata": {
        "id": "WMNQqcASwouT"
      }
    },
    {
      "cell_type": "code",
      "source": [
        "inputs =[[1,2,3,2.5],\n",
        "        [2,5,1,2],\n",
        "        [-1.5,2.7,3.3,-0.8]]\n",
        "\n",
        "# get unnormalized probabilities\n",
        "exp_values = np.exp(inputs - np.max(inputs, axis=1, keepdims=True))\n",
        "\n",
        "#Normalize them for each sample\n",
        "probabilities = exp_values / np.sum(exp_values, axis=1, keepdims=True)\n",
        "print(probabilities)\n",
        "np.sum(probabilities, axis=1)"
      ],
      "metadata": {
        "colab": {
          "base_uri": "https://localhost:8080/"
        },
        "id": "vzvuPx28z9dP",
        "outputId": "8aa9f524-e923-425a-9c17-deee315d0d0d"
      },
      "execution_count": null,
      "outputs": [
        {
          "output_type": "stream",
          "name": "stdout",
          "text": [
            "[[0.06414769 0.17437149 0.47399085 0.28748998]\n",
            " [0.04453665 0.89454258 0.01638412 0.04453665]\n",
            " [0.00522984 0.34875873 0.63547983 0.0105316 ]]\n"
          ]
        },
        {
          "output_type": "execute_result",
          "data": {
            "text/plain": [
              "array([1., 1., 1.])"
            ]
          },
          "metadata": {},
          "execution_count": 135
        }
      ]
    },
    {
      "cell_type": "code",
      "source": [
        "#Softmax activation\n",
        "class Activation_Softmax:\n",
        "  def forward(self, inputs):\n",
        "    # get unnormalized probabilities\n",
        "    exp_values = np.exp(inputs - np.max(inputs, axis=1, keepdims=True))\n",
        "    # Normalize them for each smaple\n",
        "    probabilities = exp_values / np.sum(exp_values, axis=1,keepdims=True)\n",
        "\n",
        "    self.output = probabilities"
      ],
      "metadata": {
        "id": "LNQRi6et3myM"
      },
      "execution_count": null,
      "outputs": []
    },
    {
      "cell_type": "code",
      "source": [
        "X, y = spiral_data(samples=100, classes=3)\n",
        "\n",
        "dense1 = Dense_Layer(2,3)\n",
        "\n",
        "activation1 = Activation_ReLU()\n",
        "\n",
        "dense2 = Dense_Layer(3,3)\n",
        "\n",
        "activation2 = Activation_Softmax()\n",
        "\n",
        "dense1.forward(X)\n",
        "\n",
        "activation1.forward(dense1.output)\n",
        "\n",
        "dense2.forward(activation1.output)\n",
        "\n",
        "activation2.forward(dense2.output)\n",
        "\n",
        "print(activation2.output[:5])"
      ],
      "metadata": {
        "colab": {
          "base_uri": "https://localhost:8080/"
        },
        "id": "PHpGq-Dq66Kb",
        "outputId": "58f00eb3-039d-4424-f33b-6065dc3fd7a3"
      },
      "execution_count": null,
      "outputs": [
        {
          "output_type": "stream",
          "name": "stdout",
          "text": [
            "[[0.33333334 0.33333334 0.33333334]\n",
            " [0.33333364 0.3333334  0.3333329 ]\n",
            " [0.33333385 0.33333346 0.33333266]\n",
            " [0.33333433 0.3333336  0.3333321 ]\n",
            " [0.33333465 0.33333373 0.33333164]]\n"
          ]
        }
      ]
    },
    {
      "cell_type": "markdown",
      "source": [
        "# Loss func"
      ],
      "metadata": {
        "id": "0ymuf62_LHhD"
      }
    },
    {
      "cell_type": "markdown",
      "source": [
        "**categorical cross entropy loss**\n",
        "\n",
        "-Sum(true value * log(predicted value))\n",
        "\n",
        "eg: predicted value : [0.7,0.1,0.2]\n",
        "\n",
        "True : [1, 0 ,0]\n",
        "\n",
        " -(1 * log(0.7) + 0 * log(0.1) + 0 * log(0.2))\n",
        "\n",
        " -log(0.7) = 0.3566"
      ],
      "metadata": {
        "id": "IaM_C7kyLLpx"
      }
    },
    {
      "cell_type": "code",
      "source": [
        "softmax_output = np.array([[.7,.1,.2],\n",
        "                           [.1,.5,.4],\n",
        "                           [.02,.9,.08]])\n",
        "\n",
        "class_target = [0,1,1]\n",
        "\n",
        "print(softmax_output[range(len(softmax_output)), class_target])"
      ],
      "metadata": {
        "id": "9htt9YNDLLWA",
        "colab": {
          "base_uri": "https://localhost:8080/"
        },
        "outputId": "96453c12-4932-4a2b-b388-95e11968fe02"
      },
      "execution_count": null,
      "outputs": [
        {
          "output_type": "stream",
          "name": "stdout",
          "text": [
            "[0.7 0.5 0.9]\n"
          ]
        }
      ]
    },
    {
      "cell_type": "code",
      "source": [
        "neg_log = -np.log(softmax_output[range(len(softmax_output)), class_target])\n",
        "print(neg_log)\n",
        "average_loss = np.mean(neg_log)\n",
        "print(average_loss)"
      ],
      "metadata": {
        "colab": {
          "base_uri": "https://localhost:8080/"
        },
        "id": "SMuoFo5dRi69",
        "outputId": "68924e46-768c-4fa4-b575-5088e1555a94"
      },
      "execution_count": null,
      "outputs": [
        {
          "output_type": "stream",
          "name": "stdout",
          "text": [
            "[0.35667494 0.69314718 0.10536052]\n",
            "0.38506088005216804\n"
          ]
        }
      ]
    },
    {
      "cell_type": "markdown",
      "source": [
        "## Target is one-hot encoded\n"
      ],
      "metadata": {
        "id": "OO953W83Sb_F"
      }
    },
    {
      "cell_type": "code",
      "source": [
        "y_true_values = np.array([\n",
        "    [1,0,0],\n",
        "    [0,1,0],\n",
        "    [0,1,0]\n",
        "])\n",
        "\n",
        "y_pred_values = np.array([\n",
        "    [.7,.1,.2],\n",
        "    [.1,.5,.4],\n",
        "    [.02,.9,.08]\n",
        "])\n",
        "\n",
        "A = y_true_values * y_pred_values\n",
        "B = np.sum(A,axis=1)\n",
        "C = -np.log(B)\n",
        "\n",
        "np.mean(C)\n"
      ],
      "metadata": {
        "colab": {
          "base_uri": "https://localhost:8080/"
        },
        "id": "Msxgr5h9Sjgx",
        "outputId": "bcfcfbff-f562-4a33-ab65-6296f5d88198"
      },
      "execution_count": null,
      "outputs": [
        {
          "output_type": "execute_result",
          "data": {
            "text/plain": [
              "0.38506088005216804"
            ]
          },
          "metadata": {},
          "execution_count": 140
        }
      ]
    },
    {
      "cell_type": "markdown",
      "source": [
        "**Note**: We need to prevent very large or very small values when we take log. Hence, we need to clip our predictions\n",
        "\n",
        "`clip(y_pred,1e-7,1 - 1e-7)`\n",
        "\n",
        "Here’s why clipping is important:\n",
        "\n",
        "**Preventing division by zero:**\n",
        "\n",
        "The cross-entropy loss involves taking the logarithm of predicted probabilities (y_pred). If any of these probabilities are zero, the logarithm would approach negative infinity (-∞), which would cause numerical instability and lead to an undefined loss value. By clipping, you ensure that no predicted probability is exactly zero or one, which would result in division by zero during backpropagation.\n",
        "\n",
        "**Avoiding very small numbers:**\n",
        "\n",
        "Without clipping, very small values close to zero can lead to very large negative log values. This can cause the loss to be extremely large, making training difficult and unstable. Clipping ensures that the logarithm function receives inputs that are within a reasonable range, maintaining the stability of the training process.\n",
        "\n",
        "\n",
        "In this case, the predicted probabilities (y_pred) are clipped between 1e-7 (a small positive value close to zero) and 1 - 1e-7 (slightly less than one), preventing extreme values from affecting the calculation. This improves the numerical stability and reliability of the loss function."
      ],
      "metadata": {
        "id": "tF0uMgJ9VSCm"
      }
    },
    {
      "cell_type": "markdown",
      "source": [
        "### Implementing The Loss Class"
      ],
      "metadata": {
        "id": "1IJ_5hDLWjkz"
      }
    },
    {
      "cell_type": "code",
      "source": [
        "#common loss class\n",
        "class Loss:\n",
        "  def calculate(self, output, y):\n",
        "    sample_losses = self.forward(output,y)\n",
        "    data_loss = np.mean(sample_losses)\n",
        "    return data_loss"
      ],
      "metadata": {
        "id": "TQiQm87YVvda"
      },
      "execution_count": null,
      "outputs": []
    },
    {
      "cell_type": "code",
      "source": [
        "#Cross-entropy Loss\n",
        "class Loss_CategoricalCrossEntropy(Loss):\n",
        "  def forward(self, y_pred, y_true):\n",
        "    #Number of samples in a batch\n",
        "    samples = len(y_pred)\n",
        "    #clip data to prevent division by 0\n",
        "    #clip both sides to not drag mean towards any value\n",
        "    y_pred_clipped = np.clip(y_pred,1e-7, 1 - 1e-7)\n",
        "    #Probabilities for target values -\n",
        "    # only if categorical lables\n",
        "    if len(y_true.shape) == 1:\n",
        "      correct_confidences = y_pred_clipped[range(samples),y_true]\n",
        "    #make values - only for one-hot encoded labels\n",
        "    elif len(y_true.shape) == 2:\n",
        "      correct_confidences = np.sum(y_pred_clipped*y_true, axis = 1)\n",
        "    #Losses\n",
        "    neg_log_likelihoods = -np.log(correct_confidences)\n",
        "    return neg_log_likelihoods\n"
      ],
      "metadata": {
        "id": "Ve8YkTQvXMC0"
      },
      "execution_count": null,
      "outputs": []
    },
    {
      "cell_type": "code",
      "source": [
        "softmax_outputs = np.array([[0.7, 0.1, 0.2],\n",
        " [0.1, 0.5, 0.4],\n",
        " [0.02, 0.9, 0.08]])\n",
        "class_targets = np.array([[1, 0, 0],\n",
        " [0, 1, 0],\n",
        " [0, 1, 0]])\n",
        "\n",
        "Loss_function = Loss_CategoricalCrossEntropy()\n",
        "loss = Loss_function.calculate(softmax_outputs, class_targets)\n",
        "print(loss)"
      ],
      "metadata": {
        "colab": {
          "base_uri": "https://localhost:8080/"
        },
        "id": "TygUgQs-ZFgc",
        "outputId": "2cee2551-ab62-4fe0-89db-3aa433fe16ca"
      },
      "execution_count": null,
      "outputs": [
        {
          "output_type": "stream",
          "name": "stdout",
          "text": [
            "0.38506088005216804\n"
          ]
        }
      ]
    },
    {
      "cell_type": "markdown",
      "source": [
        "Accuracy checking"
      ],
      "metadata": {
        "id": "vTIISp_Ltnvn"
      }
    },
    {
      "cell_type": "code",
      "source": [
        "import numpy as np\n",
        "\n",
        "softmax_output = np.array([[.7,.1,.2],\n",
        "                           [.1,.2,.4],\n",
        "                           [.02,.9,.08]])\n",
        "\n",
        "class_target = np.array([0,1,1])\n",
        "\n",
        "#Calculate values along second axis (axis of index 1)\n",
        "predictions = np.argmax(softmax_output, axis=1)\n",
        "\n",
        "#If targets are one-hot encoded - convert them\n",
        "if len(class_target.shape) == 2:\n",
        "  class_target = np.argmax(class_target, axis=1)\n",
        "\n",
        "#True evaluates to 1; False to 0\n",
        "\n",
        "accuracy = np.mean(predictions == class_target)\n",
        "print('acc:', accuracy)\n",
        "\n"
      ],
      "metadata": {
        "colab": {
          "base_uri": "https://localhost:8080/"
        },
        "id": "wO8W5iP3tqSJ",
        "outputId": "f9aee225-13c4-4307-a6f9-d3b29efc0a6a"
      },
      "execution_count": null,
      "outputs": [
        {
          "output_type": "stream",
          "name": "stdout",
          "text": [
            "acc: 0.6666666666666666\n"
          ]
        }
      ]
    },
    {
      "cell_type": "code",
      "source": [
        "#Data\n",
        "X, y = spiral_data(samples=100 , classes=3)\n",
        "\n",
        "#init\n",
        "dense1 = Dense_Layer(2,3)\n",
        "activation1 = Activation_ReLU()\n",
        "dense2 = Dense_Layer(3,3)\n",
        "activation2 = Activation_Softmax()\n",
        "Loss_function = Loss_CategoricalCrossEntropy()\n",
        "\n",
        "#NN\n",
        "#layer 1\n",
        "dense1.forward(X)\n",
        "activation1.forward(dense1.output)\n",
        "#layer 2\n",
        "dense2.forward(activation1.output)\n",
        "activation2.forward(dense2.output)\n",
        "\n",
        "print(activation2.output[:5])\n",
        "\n",
        "##loss func\n",
        "loss = Loss_function.calculate(activation2.output,y)\n",
        "\n",
        "print('loss:', loss)\n",
        "\n",
        "#Calculate accuracy from output of activation2 and targets\n",
        "#calculate values along first axis\n",
        "predictions = np.argmax(activation2.output, axis=1)\n",
        "if len(y.shape) == 2:\n",
        "  y = np.argmax(y, axis=1)\n",
        "accuracy = np.mean(predictions == y)\n",
        "\n",
        "print('acc:', accuracy)\n",
        "\n"
      ],
      "metadata": {
        "colab": {
          "base_uri": "https://localhost:8080/"
        },
        "id": "aoyGk_CanVeU",
        "outputId": "f7f2c92b-8d7f-4ade-eda8-398cb151aa60"
      },
      "execution_count": null,
      "outputs": [
        {
          "output_type": "stream",
          "name": "stdout",
          "text": [
            "[[0.33333334 0.33333334 0.33333334]\n",
            " [0.3333341  0.333333   0.3333329 ]\n",
            " [0.33333406 0.333333   0.33333293]\n",
            " [0.3333341  0.33333296 0.33333293]\n",
            " [0.3333364  0.33333203 0.33333158]]\n",
            "loss: 1.0986193\n",
            "acc: 0.28\n"
          ]
        }
      ]
    },
    {
      "cell_type": "markdown",
      "source": [
        "# Optimization\n",
        "\n",
        "**how to adjust weigths and biases to decrease loss?**\n",
        "\n",
        "**staregy 1**\n",
        "- randomly `select` weights and biases\n",
        "  * pick weights and biases randomly\n",
        "  * calculate loss\n",
        "  * Iterate\n",
        "  * Choose weights / bias which gives lowest loss\n",
        "\n",
        "  **does not work**\n",
        "\n",
        "**staregy 2**\n",
        "- randomly `adjust` weights and biases\n",
        "  * if loss decreases for some w,b:\n",
        "    choose the next values of weights, biases close to w,b\n",
        "  * if loss increases, don't update weights, bias values\n",
        "\n",
        "  **works better, but fails fro complex data**\n",
        "\n"
      ],
      "metadata": {
        "id": "7NNT6UwswJxc"
      }
    },
    {
      "cell_type": "code",
      "source": [
        "import matplotlib.pyplot as plt\n",
        "import nnfs\n",
        "from nnfs.datasets import vertical_data\n",
        "nnfs.init()\n",
        "\n",
        "X,y = vertical_data(samples=100,classes=3)\n",
        "\n",
        "plt.scatter(X[:,0], X[:,1],c=y,s=40,cmap='brg')\n",
        "plt.show()"
      ],
      "metadata": {
        "id": "jk5Z4dPdwN1J",
        "colab": {
          "base_uri": "https://localhost:8080/",
          "height": 430
        },
        "outputId": "a5c54d37-75bd-4b11-c39a-f4ec800b709c"
      },
      "execution_count": null,
      "outputs": [
        {
          "output_type": "display_data",
          "data": {
            "text/plain": [
              "<Figure size 640x480 with 1 Axes>"
            ],
            "image/png": "[encoded data removed]"
          },
          "metadata": {}
        }
      ]
    },
    {
      "cell_type": "markdown",
      "source": [
        "## Strategy 1: randomly select weights and biases - does not work"
      ],
      "metadata": {
        "id": "xDPxyZPrNqCy"
      }
    },
    {
      "cell_type": "code",
      "source": [
        "X, y = vertical_data(samples = 100, classes = 3)\n",
        "\n",
        "#init\n",
        "dense1 = Dense_Layer(2,3)\n",
        "activation1 = Activation_ReLU()\n",
        "dense2 = Dense_Layer(3,3)\n",
        "activation2 = Activation_Softmax()\n",
        "Loss_function = Loss_CategoricalCrossEntropy()\n",
        "\n",
        "#Helper variables\n",
        "lowest_loss = 999999\n",
        "best_dense1_weights = dense1.weights.copy()\n",
        "best_dense1_biases = dense1.biases.copy()\n",
        "best_dense2_weights = dense2.weights.copy()\n",
        "best_dense2_biases = dense2.biases.copy()\n",
        "\n",
        "for iteration in range(100000):\n",
        "  dense1.weights = 0.05 * np.random.randn(2,3)\n",
        "  dense1.biases = 0.05 * np.random.randn(1,3)\n",
        "  dense2.weights = 0.05 * np.random.randn(3,3)\n",
        "  dense2.biases = 0.05 * np.random.randn(1,3)\n",
        "\n",
        "  #forward pass\n",
        "\n",
        "  dense1.forward(X)\n",
        "  activation1.forward(dense1.output)\n",
        "  dense2.forward(activation1.output)\n",
        "  activation2.forward(dense2.output)\n",
        "\n",
        "  loss = Loss_function.calculate(activation2.output, y)\n",
        "\n",
        "  predictions = np.argmax(activation2.output, axis=1)\n",
        "\n",
        "  accuracy = np.mean(predictions == y)\n",
        "\n",
        "  if loss < lowest_loss:\n",
        "    print('new set of weights found, iteration:', iteration,'loss:', loss, \"acc:\", accuracy)\n",
        "    best_dense1_weights = dense1.weights.copy()\n",
        "    best_dense1_biases = dense1.biases.copy()\n",
        "    best_dense2_weights = dense2.weights.copy()\n",
        "    best_dense2_biases = dense2.biases.copy()\n",
        "    lowest_loss = loss\n",
        "\n",
        "\n",
        "\n",
        "\n"
      ],
      "metadata": {
        "colab": {
          "base_uri": "https://localhost:8080/"
        },
        "id": "fKdOZ6gINpLF",
        "outputId": "2e9567df-6990-4812-f0d7-7d8ca3d51757"
      },
      "execution_count": null,
      "outputs": [
        {
          "output_type": "stream",
          "name": "stdout",
          "text": [
            "new set of weights found, iteration: 0 loss: 1.1016203 acc: 0.3333333333333333\n",
            "new set of weights found, iteration: 1 loss: 1.1002508 acc: 0.3333333333333333\n",
            "new set of weights found, iteration: 2 loss: 1.0992025 acc: 0.3333333333333333\n",
            "new set of weights found, iteration: 3 loss: 1.0986239 acc: 0.3333333333333333\n",
            "new set of weights found, iteration: 10 loss: 1.0984299 acc: 0.3333333333333333\n",
            "new set of weights found, iteration: 22 loss: 1.0976521 acc: 0.36333333333333334\n",
            "new set of weights found, iteration: 150 loss: 1.0974255 acc: 0.3333333333333333\n",
            "new set of weights found, iteration: 874 loss: 1.0972673 acc: 0.3333333333333333\n",
            "new set of weights found, iteration: 894 loss: 1.096895 acc: 0.3333333333333333\n",
            "new set of weights found, iteration: 1036 loss: 1.0954281 acc: 0.3333333333333333\n",
            "new set of weights found, iteration: 88633 loss: 1.0952065 acc: 0.3333333333333333\n"
          ]
        }
      ]
    },
    {
      "cell_type": "markdown",
      "source": [
        "## Strategy 2: Randomly adjusr weights and biases - works!"
      ],
      "metadata": {
        "id": "vqUIn2XQSO7Q"
      }
    },
    {
      "cell_type": "code",
      "source": [
        "#data\n",
        "# X, y = vertical_data(samples = 100, classes = 3)\n",
        "X, y = spiral_data(samples = 100, classes = 3)\n",
        "\n",
        "#init\n",
        "dense1 = Dense_Layer(2,3)\n",
        "activation1 = Activation_ReLU()\n",
        "dense2 = Dense_Layer(3,3)\n",
        "activation2 = Activation_Softmax()\n",
        "Loss_function = Loss_CategoricalCrossEntropy()\n",
        "\n",
        "#Helper variables\n",
        "lowest_loss = 999999\n",
        "best_dense1_weights = dense1.weights.copy()\n",
        "best_dense1_biases = dense1.biases.copy()\n",
        "best_dense2_weights = dense2.weights.copy()\n",
        "best_dense2_biases = dense2.biases.copy()\n",
        "\n",
        "for iteration in range(100000):\n",
        "  #update weights with some small random value\n",
        "  dense1.weights += 0.05 * np.random.randn(2,3)\n",
        "  dense1.biases += 0.05 * np.random.randn(1,3)\n",
        "  dense2.weights += 0.05 * np.random.randn(3,3)\n",
        "  dense2.biases += 0.05 * np.random.randn(1,3)\n",
        "\n",
        "\n",
        "#forward pass\n",
        "\n",
        "  dense1.forward(X)\n",
        "  activation1.forward(dense1.output)\n",
        "  dense2.forward(activation1.output)\n",
        "  activation2.forward(dense2.output)\n",
        "\n",
        "  loss = Loss_function.calculate(activation2.output, y)\n",
        "\n",
        "  predictions = np.argmax(activation2.output, axis=1)\n",
        "\n",
        "  accuracy = np.mean(predictions == y)\n",
        "\n",
        "  if loss < lowest_loss:\n",
        "    print('new set of weights found, iteration:', iteration,'loss:', loss, \"acc:\", accuracy)\n",
        "    best_dense1_weights = dense1.weights.copy()\n",
        "    best_dense1_biases = dense1.biases.copy()\n",
        "    best_dense2_weights = dense2.weights.copy()\n",
        "    best_dense2_biases = dense2.biases.copy()\n",
        "    lowest_loss = loss\n",
        "    #revert weights and biases\n",
        "  else:\n",
        "    dense1.weights = best_dense1_weights.copy()\n",
        "    dense1.biases = best_dense1_biases.copy()\n",
        "    dense2.weights = best_dense2_weights.copy()\n",
        "    dense2.biases =   best_dense2_biases.copy()\n",
        "\n",
        "\n",
        "\n"
      ],
      "metadata": {
        "colab": {
          "base_uri": "https://localhost:8080/"
        },
        "id": "ZPdjy1HjSfFQ",
        "outputId": "972cffce-d298-41db-d63c-701a6201aab9"
      },
      "execution_count": null,
      "outputs": [
        {
          "output_type": "stream",
          "name": "stdout",
          "text": [
            "new set of weights found, iteration: 0 loss: 1.0987816 acc: 0.3333333333333333\n",
            "new set of weights found, iteration: 1 loss: 1.0978779 acc: 0.33\n",
            "new set of weights found, iteration: 18 loss: 1.0970167 acc: 0.35333333333333333\n",
            "new set of weights found, iteration: 23 loss: 1.0966469 acc: 0.36333333333333334\n",
            "new set of weights found, iteration: 24 loss: 1.0960413 acc: 0.33\n",
            "new set of weights found, iteration: 25 loss: 1.0953406 acc: 0.36666666666666664\n",
            "new set of weights found, iteration: 27 loss: 1.0952181 acc: 0.33666666666666667\n",
            "new set of weights found, iteration: 31 loss: 1.0948828 acc: 0.35333333333333333\n",
            "new set of weights found, iteration: 32 loss: 1.0948049 acc: 0.35333333333333333\n",
            "new set of weights found, iteration: 37 loss: 1.0946301 acc: 0.34\n",
            "new set of weights found, iteration: 40 loss: 1.0941039 acc: 0.33666666666666667\n",
            "new set of weights found, iteration: 42 loss: 1.0920465 acc: 0.3933333333333333\n",
            "new set of weights found, iteration: 58 loss: 1.091999 acc: 0.3433333333333333\n",
            "new set of weights found, iteration: 62 loss: 1.0914713 acc: 0.4\n",
            "new set of weights found, iteration: 64 loss: 1.089249 acc: 0.38333333333333336\n",
            "new set of weights found, iteration: 70 loss: 1.0891951 acc: 0.33666666666666667\n",
            "new set of weights found, iteration: 71 loss: 1.088301 acc: 0.37\n",
            "new set of weights found, iteration: 72 loss: 1.0866092 acc: 0.38\n",
            "new set of weights found, iteration: 74 loss: 1.085675 acc: 0.39666666666666667\n",
            "new set of weights found, iteration: 82 loss: 1.084035 acc: 0.38666666666666666\n",
            "new set of weights found, iteration: 88 loss: 1.0839516 acc: 0.4\n",
            "new set of weights found, iteration: 91 loss: 1.0832689 acc: 0.38666666666666666\n",
            "new set of weights found, iteration: 93 loss: 1.0822592 acc: 0.37\n",
            "new set of weights found, iteration: 94 loss: 1.0814114 acc: 0.41\n",
            "new set of weights found, iteration: 99 loss: 1.0802376 acc: 0.42333333333333334\n",
            "new set of weights found, iteration: 100 loss: 1.0797962 acc: 0.4166666666666667\n",
            "new set of weights found, iteration: 112 loss: 1.0795115 acc: 0.38666666666666666\n",
            "new set of weights found, iteration: 183 loss: 1.0792757 acc: 0.43\n",
            "new set of weights found, iteration: 189 loss: 1.0781116 acc: 0.41333333333333333\n",
            "new set of weights found, iteration: 195 loss: 1.0778754 acc: 0.43333333333333335\n",
            "new set of weights found, iteration: 196 loss: 1.077768 acc: 0.42\n",
            "new set of weights found, iteration: 203 loss: 1.0777484 acc: 0.41\n",
            "new set of weights found, iteration: 206 loss: 1.0774214 acc: 0.41\n",
            "new set of weights found, iteration: 219 loss: 1.0773357 acc: 0.42\n",
            "new set of weights found, iteration: 222 loss: 1.0771086 acc: 0.4266666666666667\n",
            "new set of weights found, iteration: 226 loss: 1.0757283 acc: 0.42\n",
            "new set of weights found, iteration: 234 loss: 1.0748042 acc: 0.42\n",
            "new set of weights found, iteration: 236 loss: 1.0734805 acc: 0.42333333333333334\n",
            "new set of weights found, iteration: 244 loss: 1.0731543 acc: 0.41333333333333333\n",
            "new set of weights found, iteration: 250 loss: 1.071673 acc: 0.42\n",
            "new set of weights found, iteration: 290 loss: 1.0713999 acc: 0.4166666666666667\n",
            "new set of weights found, iteration: 307 loss: 1.0713096 acc: 0.4166666666666667\n",
            "new set of weights found, iteration: 319 loss: 1.0712538 acc: 0.43\n",
            "new set of weights found, iteration: 326 loss: 1.0707803 acc: 0.44\n",
            "new set of weights found, iteration: 333 loss: 1.0705774 acc: 0.43\n",
            "new set of weights found, iteration: 336 loss: 1.069896 acc: 0.43\n",
            "new set of weights found, iteration: 430 loss: 1.0698767 acc: 0.43\n",
            "new set of weights found, iteration: 431 loss: 1.0693532 acc: 0.4066666666666667\n",
            "new set of weights found, iteration: 441 loss: 1.0692669 acc: 0.4\n",
            "new set of weights found, iteration: 454 loss: 1.0692017 acc: 0.41\n",
            "new set of weights found, iteration: 456 loss: 1.0689467 acc: 0.42333333333333334\n",
            "new set of weights found, iteration: 471 loss: 1.068727 acc: 0.41\n",
            "new set of weights found, iteration: 551 loss: 1.0686219 acc: 0.4066666666666667\n",
            "new set of weights found, iteration: 600 loss: 1.0678238 acc: 0.4033333333333333\n",
            "new set of weights found, iteration: 626 loss: 1.0669429 acc: 0.41333333333333333\n",
            "new set of weights found, iteration: 890 loss: 1.0669072 acc: 0.43666666666666665\n",
            "new set of weights found, iteration: 911 loss: 1.0668736 acc: 0.41333333333333333\n",
            "new set of weights found, iteration: 1262 loss: 1.0667734 acc: 0.4066666666666667\n",
            "new set of weights found, iteration: 1418 loss: 1.0666305 acc: 0.4033333333333333\n",
            "new set of weights found, iteration: 2524 loss: 1.0663857 acc: 0.4033333333333333\n",
            "new set of weights found, iteration: 2613 loss: 1.0661728 acc: 0.41333333333333333\n",
            "new set of weights found, iteration: 3312 loss: 1.0660751 acc: 0.44\n",
            "new set of weights found, iteration: 3517 loss: 1.0659556 acc: 0.4533333333333333\n",
            "new set of weights found, iteration: 3863 loss: 1.0659424 acc: 0.4\n",
            "new set of weights found, iteration: 3945 loss: 1.0659412 acc: 0.42333333333333334\n",
            "new set of weights found, iteration: 4254 loss: 1.065872 acc: 0.42\n",
            "new set of weights found, iteration: 4354 loss: 1.0657262 acc: 0.4\n",
            "new set of weights found, iteration: 4836 loss: 1.065625 acc: 0.4066666666666667\n",
            "new set of weights found, iteration: 6943 loss: 1.0655851 acc: 0.4166666666666667\n",
            "new set of weights found, iteration: 7617 loss: 1.065555 acc: 0.41333333333333333\n",
            "new set of weights found, iteration: 7885 loss: 1.0655396 acc: 0.41\n",
            "new set of weights found, iteration: 8813 loss: 1.0654647 acc: 0.4166666666666667\n",
            "new set of weights found, iteration: 10874 loss: 1.0654538 acc: 0.41333333333333333\n",
            "new set of weights found, iteration: 12868 loss: 1.0654129 acc: 0.43333333333333335\n",
            "new set of weights found, iteration: 16711 loss: 1.0653992 acc: 0.44333333333333336\n",
            "new set of weights found, iteration: 19000 loss: 1.0652853 acc: 0.41333333333333333\n",
            "new set of weights found, iteration: 22164 loss: 1.0652848 acc: 0.4066666666666667\n",
            "new set of weights found, iteration: 23448 loss: 1.0652789 acc: 0.4166666666666667\n",
            "new set of weights found, iteration: 28642 loss: 1.0652782 acc: 0.43\n",
            "new set of weights found, iteration: 33041 loss: 1.0652668 acc: 0.41\n",
            "new set of weights found, iteration: 33503 loss: 1.0652423 acc: 0.4066666666666667\n",
            "new set of weights found, iteration: 33571 loss: 1.0652152 acc: 0.4066666666666667\n",
            "new set of weights found, iteration: 46124 loss: 1.0650947 acc: 0.41333333333333333\n",
            "new set of weights found, iteration: 57837 loss: 1.0650642 acc: 0.4033333333333333\n",
            "new set of weights found, iteration: 81507 loss: 1.0650405 acc: 0.4033333333333333\n",
            "new set of weights found, iteration: 97629 loss: 1.0649941 acc: 0.41333333333333333\n"
          ]
        }
      ]
    },
    {
      "cell_type": "markdown",
      "source": [
        "# Backpropagation"
      ],
      "metadata": {
        "id": "elGmktAhSWDS"
      }
    },
    {
      "cell_type": "markdown",
      "source": [
        "## single neuron"
      ],
      "metadata": {
        "id": "CtYigIpWbPBl"
      }
    },
    {
      "cell_type": "code",
      "source": [
        "import numpy as np\n",
        "\n",
        "#init\n",
        "weights = np.array([-3.,-1.,2.])\n",
        "bias = 1\n",
        "inputs = np.array([1.,-2.,3.])\n",
        "target_output = 0.\n",
        "learning_rate = 0.001\n",
        "\n",
        "def relu(x):\n",
        "  return np.maximum(0,x)\n",
        "\n",
        "def relu_derivative(x):\n",
        "  return np.where(x > 0, 1, 0)\n",
        "\n",
        "for i in range(200):\n",
        "  #forward pass:\n",
        "  linear_output = np.dot(weights, inputs) + bias\n",
        "  output = relu(linear_output)\n",
        "  loss = (output - target_output) ** 2\n",
        "\n",
        "  #backwards\n",
        "  dloss_doutput = 2 * (output - target_output)\n",
        "  doutput_dlinear = relu_derivative(linear_output)\n",
        "  dlinear_dweights = inputs\n",
        "  dlinear_dbias = 1.0\n",
        "\n",
        "  dloss_dlinear = dloss_doutput * doutput_dlinear\n",
        "  dloss_dweights = dloss_dlinear * dlinear_dweights\n",
        "  dloss_dbias = dloss_dlinear * dlinear_dbias\n",
        "\n",
        "  #update weights and bias\n",
        "  weights -= learning_rate * dloss_dweights\n",
        "  bias -= learning_rate * dloss_dbias\n",
        "\n",
        "  print(f'Iteration {i + 1}, loss: {loss}')\n",
        "\n",
        "print('Final weights:' , weights)\n",
        "print('final bias:', bias)\n"
      ],
      "metadata": {
        "colab": {
          "base_uri": "https://localhost:8080/"
        },
        "id": "jwZvpdc5SZ07",
        "outputId": "03845060-5759-48d7-a9f6-4d939b06738e"
      },
      "execution_count": 4,
      "outputs": [
        {
          "output_type": "stream",
          "name": "stdout",
          "text": [
            "Iteration 1, loss: 36.0\n",
            "Iteration 2, loss: 33.872399999999985\n",
            "Iteration 3, loss: 31.870541159999995\n",
            "Iteration 4, loss: 29.98699217744401\n",
            "Iteration 5, loss: 28.21476093975706\n",
            "Iteration 6, loss: 26.54726856821742\n",
            "Iteration 7, loss: 24.978324995835766\n",
            "Iteration 8, loss: 23.502105988581878\n",
            "Iteration 9, loss: 22.113131524656684\n",
            "Iteration 10, loss: 20.80624545154949\n",
            "Iteration 11, loss: 19.576596345362915\n",
            "Iteration 12, loss: 18.419619501351963\n",
            "Iteration 13, loss: 17.331019988822064\n",
            "Iteration 14, loss: 16.306756707482677\n",
            "Iteration 15, loss: 15.343027386070442\n",
            "Iteration 16, loss: 14.43625446755368\n",
            "Iteration 17, loss: 13.583071828521268\n",
            "Iteration 18, loss: 12.780312283455652\n",
            "Iteration 19, loss: 12.024995827503426\n",
            "Iteration 20, loss: 11.314318574097976\n",
            "Iteration 21, loss: 10.645642346368787\n",
            "Iteration 22, loss: 10.016484883698395\n",
            "Iteration 23, loss: 9.424510627071816\n",
            "Iteration 24, loss: 8.867522049011871\n",
            "Iteration 25, loss: 8.34345149591527\n",
            "Iteration 26, loss: 7.850353512506679\n",
            "Iteration 27, loss: 7.386397619917536\n",
            "Iteration 28, loss: 6.949861520580408\n",
            "Iteration 29, loss: 6.539124704714106\n",
            "Iteration 30, loss: 6.152662434665503\n",
            "Iteration 31, loss: 5.7890400847767705\n",
            "Iteration 32, loss: 5.446907815766464\n",
            "Iteration 33, loss: 5.124995563854671\n",
            "Iteration 34, loss: 4.8221083260308575\n",
            "Iteration 35, loss: 4.537121723962434\n",
            "Iteration 36, loss: 4.268977830076255\n",
            "Iteration 37, loss: 4.016681240318748\n",
            "Iteration 38, loss: 3.7792953790159096\n",
            "Iteration 39, loss: 3.5559390221160707\n",
            "Iteration 40, loss: 3.345783025909011\n",
            "Iteration 41, loss: 3.148047249077789\n",
            "Iteration 42, loss: 2.9619976566572896\n",
            "Iteration 43, loss: 2.786943595148845\n",
            "Iteration 44, loss: 2.622235228675549\n",
            "Iteration 45, loss: 2.4672611266608238\n",
            "Iteration 46, loss: 2.321445994075166\n",
            "Iteration 47, loss: 2.1842485358253256\n",
            "Iteration 48, loss: 2.0551594473580463\n",
            "Iteration 49, loss: 1.9336995240191863\n",
            "Iteration 50, loss: 1.8194178821496518\n",
            "Iteration 51, loss: 1.7118902853146067\n",
            "Iteration 52, loss: 1.6107175694525138\n",
            "Iteration 53, loss: 1.515524161097869\n",
            "Iteration 54, loss: 1.4259566831769857\n",
            "Iteration 55, loss: 1.3416826432012259\n",
            "Iteration 56, loss: 1.2623891989880334\n",
            "Iteration 57, loss: 1.18778199732784\n",
            "Iteration 58, loss: 1.1175840812857634\n",
            "Iteration 59, loss: 1.0515348620817766\n",
            "Iteration 60, loss: 0.9893891517327431\n",
            "Iteration 61, loss: 0.930916252865338\n",
            "Iteration 62, loss: 0.8758991023209968\n",
            "Iteration 63, loss: 0.8241334653738256\n",
            "Iteration 64, loss: 0.7754271775702323\n",
            "Iteration 65, loss: 0.7295994313758316\n",
            "Iteration 66, loss: 0.6864801049815187\n",
            "Iteration 67, loss: 0.6459091307771115\n",
            "Iteration 68, loss: 0.6077359011481847\n",
            "Iteration 69, loss: 0.571818709390327\n",
            "Iteration 70, loss: 0.5380242236653578\n",
            "Iteration 71, loss: 0.5062269920467349\n",
            "Iteration 72, loss: 0.47630897681677353\n",
            "Iteration 73, loss: 0.4481591162869011\n",
            "Iteration 74, loss: 0.4216729125143454\n",
            "Iteration 75, loss: 0.3967520433847474\n",
            "Iteration 76, loss: 0.3733039976207088\n",
            "Iteration 77, loss: 0.35124173136132436\n",
            "Iteration 78, loss: 0.3304833450378702\n",
            "Iteration 79, loss: 0.3109517793461322\n",
            "Iteration 80, loss: 0.29257452918677535\n",
            "Iteration 81, loss: 0.27528337451183676\n",
            "Iteration 82, loss: 0.25901412707818716\n",
            "Iteration 83, loss: 0.24370639216786655\n",
            "Iteration 84, loss: 0.22930334439074554\n",
            "Iteration 85, loss: 0.21575151673725296\n",
            "Iteration 86, loss: 0.2030006020980815\n",
            "Iteration 87, loss: 0.1910032665140846\n",
            "Iteration 88, loss: 0.17971497346310225\n",
            "Iteration 89, loss: 0.16909381853143338\n",
            "Iteration 90, loss: 0.1591003738562249\n",
            "Iteration 91, loss: 0.14969754176132236\n",
            "Iteration 92, loss: 0.14085041704322837\n",
            "Iteration 93, loss: 0.13252615739597357\n",
            "Iteration 94, loss: 0.12469386149387143\n",
            "Iteration 95, loss: 0.11732445427958357\n",
            "Iteration 96, loss: 0.1103905790316602\n",
            "Iteration 97, loss: 0.1038664958108892\n",
            "Iteration 98, loss: 0.09772798590846558\n",
            "Iteration 99, loss: 0.09195226194127534\n",
            "Iteration 100, loss: 0.08651788326054576\n",
            "Iteration 101, loss: 0.08140467635984766\n",
            "Iteration 102, loss: 0.07659365998698062\n",
            "Iteration 103, loss: 0.07206697468175022\n",
            "Iteration 104, loss: 0.06780781647805834\n",
            "Iteration 105, loss: 0.06380037452420508\n",
            "Iteration 106, loss: 0.06002977238982451\n",
            "Iteration 107, loss: 0.056482012841585764\n",
            "Iteration 108, loss: 0.05314392588264784\n",
            "Iteration 109, loss: 0.050003119862983315\n",
            "Iteration 110, loss: 0.04704793547908108\n",
            "Iteration 111, loss: 0.044267402492267266\n",
            "Iteration 112, loss: 0.04165119900497404\n",
            "Iteration 113, loss: 0.03918961314378035\n",
            "Iteration 114, loss: 0.036873507006982977\n",
            "Iteration 115, loss: 0.034694282742870286\n",
            "Iteration 116, loss: 0.032643850632766785\n",
            "Iteration 117, loss: 0.030714599060370322\n",
            "Iteration 118, loss: 0.028899366255902493\n",
            "Iteration 119, loss: 0.027191413710178584\n",
            "Iteration 120, loss: 0.025584401159906914\n",
            "Iteration 121, loss: 0.024072363051356495\n",
            "Iteration 122, loss: 0.02264968639502138\n",
            "Iteration 123, loss: 0.021311089929075627\n",
            "Iteration 124, loss: 0.02005160451426725\n",
            "Iteration 125, loss: 0.018866554687474075\n",
            "Iteration 126, loss: 0.017751541305444478\n",
            "Iteration 127, loss: 0.016702425214292563\n",
            "Iteration 128, loss: 0.015715311884128023\n",
            "Iteration 129, loss: 0.014786536951776086\n",
            "Iteration 130, loss: 0.013912652617925996\n",
            "Iteration 131, loss: 0.013090414848206543\n",
            "Iteration 132, loss: 0.012316771330677616\n",
            "Iteration 133, loss: 0.011588850145034585\n",
            "Iteration 134, loss: 0.010903949101463065\n",
            "Iteration 135, loss: 0.010259525709566468\n",
            "Iteration 136, loss: 0.00965318774013127\n",
            "Iteration 137, loss: 0.009082684344689475\n",
            "Iteration 138, loss: 0.008545897699918217\n",
            "Iteration 139, loss: 0.008040835145853157\n",
            "Iteration 140, loss: 0.007565621788733219\n",
            "Iteration 141, loss: 0.0071184935410191314\n",
            "Iteration 142, loss: 0.0066977905727448606\n",
            "Iteration 143, loss: 0.0063019511498957235\n",
            "Iteration 144, loss: 0.0059295058369368625\n",
            "Iteration 145, loss: 0.005579072041973911\n",
            "Iteration 146, loss: 0.005249348884293189\n",
            "Iteration 147, loss: 0.004939112365231465\n",
            "Iteration 148, loss: 0.004647210824446307\n",
            "Iteration 149, loss: 0.004372560664721486\n",
            "Iteration 150, loss: 0.004114142329436494\n",
            "Iteration 151, loss: 0.003870996517766834\n",
            "Iteration 152, loss: 0.0036422206235667827\n",
            "Iteration 153, loss: 0.003426965384714017\n",
            "Iteration 154, loss: 0.0032244317304774505\n",
            "Iteration 155, loss: 0.0030338678152062068\n",
            "Iteration 156, loss: 0.0028545662273275238\n",
            "Iteration 157, loss: 0.002685861363292443\n",
            "Iteration 158, loss: 0.002527126956721865\n",
            "Iteration 159, loss: 0.0023777737535795864\n",
            "Iteration 160, loss: 0.00223724732474303\n",
            "Iteration 161, loss: 0.0021050260078507234\n",
            "Iteration 162, loss: 0.0019806189707867374\n",
            "Iteration 163, loss: 0.0018635643896132343\n",
            "Iteration 164, loss: 0.0017534277341871227\n",
            "Iteration 165, loss: 0.001649800155096641\n",
            "Iteration 166, loss: 0.0015522969659304577\n",
            "Iteration 167, loss: 0.001460556215243966\n",
            "Iteration 168, loss: 0.0013742373429230384\n",
            "Iteration 169, loss: 0.0012930199159562866\n",
            "Iteration 170, loss: 0.0012166024389232565\n",
            "Iteration 171, loss: 0.0011447012347829176\n",
            "Iteration 172, loss: 0.0010770493918072417\n",
            "Iteration 173, loss: 0.0010133957727514104\n",
            "Iteration 174, loss: 0.0009535040825818078\n",
            "Iteration 175, loss: 0.0008971519913012032\n",
            "Iteration 176, loss: 0.0008441303086153036\n",
            "Iteration 177, loss: 0.0007942422073761319\n",
            "Iteration 178, loss: 0.0007473024929201971\n",
            "Iteration 179, loss: 0.0007031369155886336\n",
            "Iteration 180, loss: 0.0006615815238773228\n",
            "Iteration 181, loss: 0.0006224820558161947\n",
            "Iteration 182, loss: 0.0005856933663174669\n",
            "Iteration 183, loss: 0.0005510788883681015\n",
            "Iteration 184, loss: 0.0005185101260655451\n",
            "Iteration 185, loss: 0.00048786617761505856\n",
            "Iteration 186, loss: 0.00045903328651801555\n",
            "Iteration 187, loss: 0.0004319044192847635\n",
            "Iteration 188, loss: 0.0004063788681050637\n",
            "Iteration 189, loss: 0.0003823618770000461\n",
            "Iteration 190, loss: 0.0003597642900693548\n",
            "Iteration 191, loss: 0.0003385022205262612\n",
            "Iteration 192, loss: 0.00031849673929316324\n",
            "Iteration 193, loss: 0.0002996735820009465\n",
            "Iteration 194, loss: 0.0002819628733046985\n",
            "Iteration 195, loss: 0.0002652988674923804\n",
            "Iteration 196, loss: 0.0002496197044235683\n",
            "Iteration 197, loss: 0.00023486717989212869\n",
            "Iteration 198, loss: 0.00022098652956051694\n",
            "Iteration 199, loss: 0.0002079262256634926\n",
            "Iteration 200, loss: 0.00019563778572677352\n",
            "Final weights: [-3.3990955  -0.20180899  0.80271349]\n",
            "final bias: 0.6009044964039992\n"
          ]
        }
      ]
    },
    {
      "cell_type": "markdown",
      "source": [],
      "metadata": {
        "id": "peQ-6OKPbSqv"
      }
    },
    {
      "cell_type": "code",
      "source": [],
      "metadata": {
        "id": "S1rKJewVbTJx"
      },
      "execution_count": null,
      "outputs": []
    }
  ]
}